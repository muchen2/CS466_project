{
 "cells": [
  {
   "cell_type": "code",
   "execution_count": 1,
   "metadata": {},
   "outputs": [
    {
     "name": "stderr",
     "output_type": "stream",
     "text": [
      "/usr/local/lib/python3.5/dist-packages/h5py/__init__.py:36: FutureWarning: Conversion of the second argument of issubdtype from `float` to `np.floating` is deprecated. In future, it will be treated as `np.float64 == np.dtype(float).type`.\n",
      "  from ._conv import register_converters as _register_converters\n"
     ]
    }
   ],
   "source": [
    "%load_ext autoreload\n",
    "%autoreload 2\n",
    "from rankmotif import *\n",
    "import pandas as pd"
   ]
  },
  {
   "cell_type": "code",
   "execution_count": 2,
   "metadata": {},
   "outputs": [
    {
     "data": {
      "text/plain": [
       "'\\nseqs = [\"ACTGATGGTA\", \"ATGGGGCATG\", \"AAAAAAAAAA\", \"CCCCCCCCTG\", \"ATGATGATGG\"]\\n# Assume ATG is prefered in binding\\nbdPrefs = np.array([[0,0,1,1,0],\\n                    [1,0,1,1,0],\\n                    [0,0,0,0,0],\\n                    [0,0,1,0,0],\\n                    [1,1,1,1,0]]).astype(np.float32)\\n'"
      ]
     },
     "execution_count": 2,
     "metadata": {},
     "output_type": "execute_result"
    }
   ],
   "source": [
    "\"\"\"\n",
    "seqs = [\"ACTGATGGTA\", \"ATGGGGCATG\", \"AAAAAAAAAA\", \"CCCCCCCCTG\", \"ATGATGATGG\"]\n",
    "# Assume ATG is prefered in binding\n",
    "bdPrefs = np.array([[0,0,1,1,0],\n",
    "                    [1,0,1,1,0],\n",
    "                    [0,0,0,0,0],\n",
    "                    [0,0,1,0,0],\n",
    "                    [1,1,1,1,0]]).astype(np.float32)\n",
    "\"\"\""
   ]
  },
  {
   "cell_type": "code",
   "execution_count": 3,
   "metadata": {},
   "outputs": [
    {
     "name": "stdout",
     "output_type": "stream",
     "text": [
      "Number of sequences: 80856\n",
      "Number of binding scores: 80856\n"
     ]
    }
   ],
   "source": [
    "# Load pbm data\n",
    "TFName = \"TF_40\"\n",
    "seqs = pd.read_csv(\"./pbm/sequences.tsv\", delimiter=\"\\t\")['seq'].tolist()\n",
    "targets = pd.read_csv(\"./pbm/targets.tsv\", delimiter=\"\\t\")\n",
    "bscores = targets.as_matrix(columns=[TFName])\n",
    "print(\"Number of sequences: {}\".format(len(seqs)))\n",
    "print(\"Number of binding scores: {}\".format(len(bscores)))"
   ]
  },
  {
   "cell_type": "code",
   "execution_count": 4,
   "metadata": {},
   "outputs": [
    {
     "name": "stdout",
     "output_type": "stream",
     "text": [
      "Removed 3 entries, number of seqs is now 80853, number of binding scores is now 80853\n"
     ]
    }
   ],
   "source": [
    "# Remove sequences with mismatched lengths\n",
    "from scipy.stats import mode\n",
    "lenArr = np.array([len(seqs[i]) for i in range(len(seqs))])\n",
    "modeLen = mode(lenArr)[0][0]\n",
    "count = 0\n",
    "remove_indices = []\n",
    "for i in range(len(seqs)):\n",
    "    if len(seqs[i]) != modeLen:\n",
    "        remove_indices.append(i)\n",
    "        count += 1\n",
    "nseqs = [seqs[i] for i in range(len(seqs)) if i not in remove_indices]\n",
    "nbscores = np.delete(bscores, remove_indices)\n",
    "seqs = nseqs\n",
    "bscores = nbscores\n",
    "print(\"Removed {0} entries, number of seqs is now {1}, number of binding scores is now {2}\".format(count, len(seqs), len(bscores)))"
   ]
  },
  {
   "cell_type": "code",
   "execution_count": 5,
   "metadata": {},
   "outputs": [],
   "source": [
    "# Train test split\n",
    "n_split = round(0.7 * len(seqs))\n",
    "seqs_train = seqs[:n_split]\n",
    "bscores_train = bscores[:n_split]\n",
    "seqs_test = seqs[n_split:]\n",
    "bscores_test = bscores[n_split:]"
   ]
  },
  {
   "cell_type": "code",
   "execution_count": 6,
   "metadata": {},
   "outputs": [
    {
     "name": "stdout",
     "output_type": "stream",
     "text": [
      "Epoch: 0/100000, negative log likelihood: 300.4814453125\n",
      "Epoch: 10000/100000, negative log likelihood: 271.932373046875\n",
      "Epoch: 20000/100000, negative log likelihood: 224.05491638183594\n",
      "Epoch: 30000/100000, negative log likelihood: 267.8390197753906\n",
      "Epoch: 40000/100000, negative log likelihood: 229.43484497070312\n",
      "Epoch: 50000/100000, negative log likelihood: 254.4738311767578\n",
      "Epoch: 60000/100000, negative log likelihood: 248.01998901367188\n",
      "Epoch: 70000/100000, negative log likelihood: 250.14561462402344\n",
      "Epoch: 80000/100000, negative log likelihood: 232.2215576171875\n",
      "Epoch: 90000/100000, negative log likelihood: 235.82598876953125\n"
     ]
    },
    {
     "data": {
      "text/plain": [
       "<rankmotif.RankMotifModel at 0x7f5fe151c6d8>"
      ]
     },
     "execution_count": 6,
     "metadata": {},
     "output_type": "execute_result"
    }
   ],
   "source": [
    "r = RankMotifModel(K=3)\n",
    "r.fit(seqs_train, bscores_train, [\"A\",\"T\",\"G\",\"C\"], gdStepSize=0.01, batch_size=30, max_iter=int(1e5), verbose=int(1e4))"
   ]
  },
  {
   "cell_type": "code",
   "execution_count": 7,
   "metadata": {},
   "outputs": [
    {
     "name": "stderr",
     "output_type": "stream",
     "text": [
      "/media/mu/OS/Users/CM/CS466/project/rankmotif/rankmotif.py:50: RuntimeWarning: invalid value encountered in greater\n",
      "  pref[i, :] = (bscores[i] > bscores).astype(np.float32)\n"
     ]
    },
    {
     "name": "stdout",
     "output_type": "stream",
     "text": [
      "Test epoch: 0/50\n",
      "Test epoch: 1/50\n",
      "Test epoch: 2/50\n",
      "Test epoch: 3/50\n",
      "Test epoch: 4/50\n",
      "Test epoch: 5/50\n",
      "Test epoch: 6/50\n",
      "Test epoch: 7/50\n",
      "Test epoch: 8/50\n",
      "Test epoch: 9/50\n",
      "Test epoch: 10/50\n",
      "Test epoch: 11/50\n",
      "Test epoch: 12/50\n",
      "Test epoch: 13/50\n",
      "Test epoch: 14/50\n",
      "Test epoch: 15/50\n",
      "Test epoch: 16/50\n",
      "Test epoch: 17/50\n",
      "Test epoch: 18/50\n",
      "Test epoch: 19/50\n",
      "Test epoch: 20/50\n",
      "Test epoch: 21/50\n",
      "Test epoch: 22/50\n",
      "Test epoch: 23/50\n",
      "Test epoch: 24/50\n",
      "Test epoch: 25/50\n",
      "Test epoch: 26/50\n",
      "Test epoch: 27/50\n",
      "Test epoch: 28/50\n",
      "Test epoch: 29/50\n",
      "Test epoch: 30/50\n",
      "Test epoch: 31/50\n",
      "Test epoch: 32/50\n",
      "Test epoch: 33/50\n",
      "Test epoch: 34/50\n",
      "Test epoch: 35/50\n",
      "Test epoch: 36/50\n",
      "Test epoch: 37/50\n",
      "Test epoch: 38/50\n",
      "Test epoch: 39/50\n",
      "Test epoch: 40/50\n",
      "Test epoch: 41/50\n",
      "Test epoch: 42/50\n",
      "Test epoch: 43/50\n",
      "Test epoch: 44/50\n",
      "Test epoch: 45/50\n",
      "Test epoch: 46/50\n",
      "Test epoch: 47/50\n",
      "Test epoch: 48/50\n",
      "Test epoch: 49/50\n",
      "Accuracy: 0.6274\n"
     ]
    }
   ],
   "source": [
    "test_batch_size = 20\n",
    "num_test_batches = 50 # len(seqs_test) // test_batch_size\n",
    "num_corr_pred = 0\n",
    "num_total_pred = 0\n",
    "for i in range(num_test_batches):\n",
    "    batch_seq = seqs_test[i*test_batch_size:(i+1)*test_batch_size]\n",
    "    batch_bscores = bscores_test[i*test_batch_size:(i+1)*test_batch_size]\n",
    "    mat_pred = r.predict_proba(batch_seq)\n",
    "    mat_true = bscores2PrefMat(batch_bscores)\n",
    "    num_corr_pred += np.sum(1 - np.abs(mat_true - (mat_pred > 0.5)))\n",
    "    num_total_pred += test_batch_size**2\n",
    "    if i % 1 == 0:\n",
    "        print(\"Test epoch: {0}/{1}\".format(i, num_test_batches))\n",
    "print(\"Accuracy: {}\".format(num_corr_pred / num_total_pred))"
   ]
  },
  {
   "cell_type": "code",
   "execution_count": 12,
   "metadata": {},
   "outputs": [
    {
     "name": "stdout",
     "output_type": "stream",
     "text": [
      "[[ 0.0556099   0.32524014  0.37299627  0.3735904   0.36005628  0.25891182\n",
      "   0.20912594  0.3557854   0.2062826   0.3060696   0.28159738  0.2790596\n",
      "   0.16520452  0.23798794  0.25597823  0.2013431   0.31196356  0.16161124\n",
      "   0.23308046  0.21049787  0.25035462  0.11661319  0.22826304  0.2528504\n",
      "   0.23152494  0.35391006  0.2195252  -0.07600296  0.04572055  0.11259553\n",
      "  -0.03067494  0.14419837  0.18578616  0.14519845  0.04000156  0.2713434\n",
      "   0.24053839  0.14851305  0.08784088  0.1326464 ]\n",
      " [ 0.56951445  0.15246405  0.04833584 -0.24868195 -0.0174087   0.05218118\n",
      "  -0.1982458   0.06971007  0.07488321  0.05789963  0.12968157  0.1676091\n",
      "  -0.10333522  0.17774765 -0.0778156   0.02768946  0.07507385 -0.36595473\n",
      "  -0.4102607   0.09236813  0.14065361  0.09548528  0.17465843  0.06635317\n",
      "   0.0418316   0.02559095  0.13619696 -0.08029851  0.03906024 -0.04087978\n",
      "   0.02619106  0.13383938  0.05473239  0.20130005 -0.16173844  0.26879376\n",
      "   0.25102043  0.48163304  0.12376206  0.2112928 ]\n",
      " [ 0.03415588  0.4591183   0.5241313   0.43053654  0.32801083  0.36895266\n",
      "   0.55019766  0.30191338  0.35740086  0.29945755  0.33068344  0.32146317\n",
      "   0.5616601   0.30580667  0.54180324  0.37163872  0.3161792   1.1253496\n",
      "   0.6970347   0.4372552   0.37074545  0.54176295  0.34312752  0.36670938\n",
      "   0.35149005  0.37964267  0.379552    0.7534781   0.56951255  0.6910624\n",
      "   0.5760274   0.42013958  0.4437973   0.27687055  0.58792317  0.26894397\n",
      "   0.26623043  0.21544495  0.26421434  0.30262515]\n",
      " [ 0.3407198   0.06317753  0.05453663  0.44455504  0.3293416   0.3199543\n",
      "   0.43892223  0.27259114  0.36143336  0.3365732   0.25803757  0.23186816\n",
      "   0.37647063  0.27845773  0.28003418  0.39932874  0.29678345  0.07899391\n",
      "   0.4801455   0.25987875  0.23824638  0.24613859  0.25395104  0.31408712\n",
      "   0.37515333  0.24085629  0.26472583  0.40282345  0.3457067   0.23722188\n",
      "   0.42845643  0.30182266  0.3156841   0.37663096  0.5338138   0.19091882\n",
      "   0.24221072  0.15440895  0.52418274  0.3534357 ]]\n"
     ]
    }
   ],
   "source": [
    "thetaMat = r.pwm_()\n",
    "thetaMat = thetaMat / np.sum(thetaMat, axis=0)[None, :]\n",
    "print(thetaMat)"
   ]
  },
  {
   "cell_type": "code",
   "execution_count": 11,
   "metadata": {},
   "outputs": [
    {
     "data": {
      "text/plain": [
       "2.733316"
      ]
     },
     "execution_count": 11,
     "metadata": {},
     "output_type": "execute_result"
    }
   ],
   "source": [
    "r.weight_()"
   ]
  },
  {
   "cell_type": "code",
   "execution_count": null,
   "metadata": {},
   "outputs": [],
   "source": []
  }
 ],
 "metadata": {
  "kernelspec": {
   "display_name": "Python 3",
   "language": "python",
   "name": "python3"
  },
  "language_info": {
   "codemirror_mode": {
    "name": "ipython",
    "version": 3
   },
   "file_extension": ".py",
   "mimetype": "text/x-python",
   "name": "python",
   "nbconvert_exporter": "python",
   "pygments_lexer": "ipython3",
   "version": "3.5.1+"
  }
 },
 "nbformat": 4,
 "nbformat_minor": 2
}
