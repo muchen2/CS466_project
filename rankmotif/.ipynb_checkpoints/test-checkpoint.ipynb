{
 "cells": [
  {
   "cell_type": "code",
   "execution_count": null,
   "metadata": {},
   "outputs": [],
   "source": [
    "%load_ext autoreload\n",
    "%autoreload 2\n",
    "from rankmotif import *\n",
    "import pandas as pd"
   ]
  },
  {
   "cell_type": "code",
   "execution_count": null,
   "metadata": {},
   "outputs": [],
   "source": [
    "\"\"\"\n",
    "seqs = [\"ACTGATGGTA\", \"ATGGGGCATG\", \"AAAAAAAAAA\", \"CCCCCCCCTG\", \"ATGATGATGG\"]\n",
    "# Assume ATG is prefered in binding\n",
    "bdPrefs = np.array([[0,0,1,1,0],\n",
    "                    [1,0,1,1,0],\n",
    "                    [0,0,0,0,0],\n",
    "                    [0,0,1,0,0],\n",
    "                    [1,1,1,1,0]]).astype(np.float32)\n",
    "\"\"\""
   ]
  },
  {
   "cell_type": "code",
   "execution_count": null,
   "metadata": {},
   "outputs": [],
   "source": [
    "# Load pbm data\n",
    "TFName = \"TF_40\"\n",
    "seqs = pd.read_csv(\"./pbm/sequences.tsv\", delimiter=\"\\t\")['seq'].tolist()\n",
    "targets = pd.read_csv(\"./pbm/targets.tsv\", delimiter=\"\\t\")\n",
    "bscores = targets.as_matrix(columns=[TFName])\n",
    "print(\"Number of sequences: {}\".format(len(seqs)))\n",
    "print(\"Number of binding scores: {}\".format(len(bscores)))"
   ]
  },
  {
   "cell_type": "code",
   "execution_count": null,
   "metadata": {},
   "outputs": [],
   "source": [
    "# Remove sequences with mismatched lengths\n",
    "from scipy.stats import mode\n",
    "lenArr = np.array([len(seqs[i]) for i in range(len(seqs))])\n",
    "modeLen = mode(lenArr)[0][0]\n",
    "count = 0\n",
    "remove_indices = []\n",
    "for i in range(len(seqs)):\n",
    "    if len(seqs[i]) != modeLen:\n",
    "        remove_indices.append(i)\n",
    "        count += 1\n",
    "nseqs = [seqs[i] for i in range(len(seqs)) if i not in remove_indices]\n",
    "nbscores = np.delete(bscores, remove_indices)\n",
    "seqs = nseqs\n",
    "bscores = nbscores\n",
    "print(\"Removed {0} entries, number of seqs is now {1}, number of binding scores is now {2}\".format(count, len(seqs), len(bscores)))"
   ]
  },
  {
   "cell_type": "code",
   "execution_count": null,
   "metadata": {},
   "outputs": [],
   "source": [
    "r = RankMotifModel(K=8)\n",
    "r.fit(seqs, bscores, [\"A\",\"T\",\"G\",\"C\"], gdStepSize=0.0001, verbose=True)"
   ]
  },
  {
   "cell_type": "code",
   "execution_count": null,
   "metadata": {},
   "outputs": [],
   "source": [
    "test_seq=[\"ATGATGGGGA\", \"ACCCCGATGC\"]\n",
    "r.predict_proba(test_seq)"
   ]
  },
  {
   "cell_type": "code",
   "execution_count": null,
   "metadata": {},
   "outputs": [],
   "source": []
  },
  {
   "cell_type": "code",
   "execution_count": null,
   "metadata": {},
   "outputs": [],
   "source": []
  },
  {
   "cell_type": "code",
   "execution_count": null,
   "metadata": {},
   "outputs": [],
   "source": []
  }
 ],
 "metadata": {
  "kernelspec": {
   "display_name": "Python 3",
   "language": "python",
   "name": "python3"
  },
  "language_info": {
   "codemirror_mode": {
    "name": "ipython",
    "version": 3
   },
   "file_extension": ".py",
   "mimetype": "text/x-python",
   "name": "python",
   "nbconvert_exporter": "python",
   "pygments_lexer": "ipython3",
   "version": "3.5.1+"
  }
 },
 "nbformat": 4,
 "nbformat_minor": 2
}
